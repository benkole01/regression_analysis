{
 "cells": [
  {
   "cell_type": "markdown",
   "metadata": {},
   "source": [
    "# How to apply Least Square Regression Line in Python"
   ]
  },
  {
   "cell_type": "markdown",
   "metadata": {},
   "source": [
    "In this notebook, I will be applying Least Square method to fit a regression line between two variables with a linear relationship. We will be using alcohol data showing different amount of calories for different alcohol contents.\n",
    "Below is a few questions to answer as we analyze the dataset:\n",
    "    \n",
    "    A: Is there a linear relationship between 'Alcohol content' and 'Amount of calories in the alcohol'.\n",
    "    B: can we predict the amount of calories given any alcohol content?"
   ]
  },
  {
   "cell_type": "markdown",
   "metadata": {},
   "source": [
    "## Loading the dataset and getting it ready for analysis"
   ]
  },
  {
   "cell_type": "code",
   "execution_count": 1,
   "metadata": {},
   "outputs": [
    {
     "name": "stderr",
     "output_type": "stream",
     "text": [
      "C:\\Users\\BEN KOLE\\Anaconda3\\lib\\site-packages\\statsmodels\\tools\\_testing.py:19: FutureWarning: pandas.util.testing is deprecated. Use the functions in the public API at pandas.testing instead.\n",
      "  import pandas.util.testing as tm\n"
     ]
    }
   ],
   "source": [
    "# these are imports for the standard modules and libraries I will be using \n",
    "import pandas as pd\n",
    "from pandas import Series,DataFrame\n",
    "import numpy as np\n",
    "\n",
    "# these are imports for the vizualization modules and libraries \n",
    "import matplotlib.pyplot as plt\n",
    "import seaborn as sns\n",
    "\n",
    "# this is the command for enabling the plots to appear here in the Ipython-notebook \n",
    "# it's one of the magic commands\n",
    "%matplotlib inline"
   ]
  },
  {
   "cell_type": "code",
   "execution_count": 2,
   "metadata": {},
   "outputs": [],
   "source": [
    "# loading the dataset to use\n",
    "alcohol_data = pd.ExcelFile('Alcohol and Calorie Content in Beer.xlsx')"
   ]
  },
  {
   "cell_type": "code",
   "execution_count": 3,
   "metadata": {},
   "outputs": [
    {
     "data": {
      "text/plain": [
       "['Sheet1']"
      ]
     },
     "execution_count": 3,
     "metadata": {},
     "output_type": "execute_result"
    }
   ],
   "source": [
    "# our data is from an excel file\n",
    "# let's inspect all the sheets available in the file\n",
    "alcohol_data.sheet_names"
   ]
  },
  {
   "cell_type": "code",
   "execution_count": 4,
   "metadata": {},
   "outputs": [],
   "source": [
    "# To create a dataframe from the available sheet, we will parse the excel file to a dataframe. \n",
    "# Since there is only one sheet,we will not have to specify the sheet name when calling the parse method.\n",
    "alcohol_df = alcohol_data.parse()"
   ]
  },
  {
   "cell_type": "code",
   "execution_count": 5,
   "metadata": {},
   "outputs": [
    {
     "data": {
      "text/html": [
       "<div>\n",
       "<style scoped>\n",
       "    .dataframe tbody tr th:only-of-type {\n",
       "        vertical-align: middle;\n",
       "    }\n",
       "\n",
       "    .dataframe tbody tr th {\n",
       "        vertical-align: top;\n",
       "    }\n",
       "\n",
       "    .dataframe thead th {\n",
       "        text-align: right;\n",
       "    }\n",
       "</style>\n",
       "<table border=\"1\" class=\"dataframe\">\n",
       "  <thead>\n",
       "    <tr style=\"text-align: right;\">\n",
       "      <th></th>\n",
       "      <th>Brand</th>\n",
       "      <th>Brewery</th>\n",
       "      <th>Alcohol Content(%)</th>\n",
       "      <th>Calories in 12 oz</th>\n",
       "    </tr>\n",
       "  </thead>\n",
       "  <tbody>\n",
       "    <tr>\n",
       "      <th>0</th>\n",
       "      <td>Big Sky Scape Goat Pale Ale</td>\n",
       "      <td>Big Sky Brewing</td>\n",
       "      <td>4.70</td>\n",
       "      <td>163</td>\n",
       "    </tr>\n",
       "    <tr>\n",
       "      <th>1</th>\n",
       "      <td>Sierra Nevada Harvest Ale</td>\n",
       "      <td>Sierra Nevada</td>\n",
       "      <td>6.70</td>\n",
       "      <td>215</td>\n",
       "    </tr>\n",
       "    <tr>\n",
       "      <th>2</th>\n",
       "      <td>Steel Reserve</td>\n",
       "      <td>MillerCoors</td>\n",
       "      <td>8.10</td>\n",
       "      <td>222</td>\n",
       "    </tr>\n",
       "    <tr>\n",
       "      <th>3</th>\n",
       "      <td>Coors Light</td>\n",
       "      <td>MillerCoors</td>\n",
       "      <td>4.15</td>\n",
       "      <td>104</td>\n",
       "    </tr>\n",
       "    <tr>\n",
       "      <th>4</th>\n",
       "      <td>Genesee Cream Ale</td>\n",
       "      <td>High Falls Brewing</td>\n",
       "      <td>5.10</td>\n",
       "      <td>162</td>\n",
       "    </tr>\n",
       "  </tbody>\n",
       "</table>\n",
       "</div>"
      ],
      "text/plain": [
       "                          Brand              Brewery  Alcohol Content(%)  \\\n",
       "0  Big Sky Scape Goat Pale Ale      Big Sky Brewing                 4.70   \n",
       "1    Sierra Nevada Harvest Ale        Sierra Nevada                 6.70   \n",
       "2                Steel Reserve           MillerCoors                8.10   \n",
       "3                  Coors Light           MillerCoors                4.15   \n",
       "4            Genesee Cream Ale   High Falls Brewing                 5.10   \n",
       "\n",
       "   Calories in 12 oz  \n",
       "0                163  \n",
       "1                215  \n",
       "2                222  \n",
       "3                104  \n",
       "4                162  "
      ]
     },
     "execution_count": 5,
     "metadata": {},
     "output_type": "execute_result"
    }
   ],
   "source": [
    "# preview the dataframe\n",
    "alcohol_df.head()"
   ]
  },
  {
   "cell_type": "code",
   "execution_count": 6,
   "metadata": {},
   "outputs": [
    {
     "name": "stdout",
     "output_type": "stream",
     "text": [
      "<class 'pandas.core.frame.DataFrame'>\n",
      "RangeIndex: 9 entries, 0 to 8\n",
      "Data columns (total 4 columns):\n",
      " #   Column              Non-Null Count  Dtype  \n",
      "---  ------              --------------  -----  \n",
      " 0   Brand               9 non-null      object \n",
      " 1   Brewery             9 non-null      object \n",
      " 2   Alcohol Content(%)  9 non-null      float64\n",
      " 3   Calories in 12 oz   9 non-null      int64  \n",
      "dtypes: float64(1), int64(1), object(2)\n",
      "memory usage: 416.0+ bytes\n"
     ]
    }
   ],
   "source": [
    "# get some information about the dataframe\n",
    "alcohol_df.info()"
   ]
  },
  {
   "cell_type": "markdown",
   "metadata": {},
   "source": [
    "Our data does not have any null or missing values. Having that in mind, we can start by having some count plots for the categorical variables(columns) in our dataset."
   ]
  },
  {
   "cell_type": "markdown",
   "metadata": {},
   "source": [
    "## Some visualizations on the distributions of the data\n",
    "It's always good to visualize your data to get an overall view of it."
   ]
  },
  {
   "cell_type": "code",
   "execution_count": 7,
   "metadata": {},
   "outputs": [
    {
     "data": {
      "text/plain": [
       "<matplotlib.axes._subplots.AxesSubplot at 0x216d8dd6148>"
      ]
     },
     "execution_count": 7,
     "metadata": {},
     "output_type": "execute_result"
    },
    {
     "data": {
      "image/png": "[encoded data removed]",
      "text/plain": [
       "<Figure size 432x288 with 1 Axes>"
      ]
     },
     "metadata": {
      "needs_background": "light"
     },
     "output_type": "display_data"
    }
   ],
   "source": [
    "# count plot of Brewery on the y-axis\n",
    "sns.countplot(y = 'Brand',data = alcohol_df)"
   ]
  },
  {
   "cell_type": "markdown",
   "metadata": {},
   "source": [
    "Looks like there were unique brands of alcohol."
   ]
  },
  {
   "cell_type": "code",
   "execution_count": 8,
   "metadata": {},
   "outputs": [
    {
     "data": {
      "text/plain": [
       "<matplotlib.axes._subplots.AxesSubplot at 0x216e1526588>"
      ]
     },
     "execution_count": 8,
     "metadata": {},
     "output_type": "execute_result"
    },
    {
     "data": {
      "image/png": "[encoded data removed]",
      "text/plain": [
       "<Figure size 432x288 with 1 Axes>"
      ]
     },
     "metadata": {
      "needs_background": "light"
     },
     "output_type": "display_data"
    }
   ],
   "source": [
    "# count plot of Brewery on the y-axis\n",
    "sns.countplot(y = 'Brewery',data = alcohol_df)"
   ]
  },
  {
   "cell_type": "markdown",
   "metadata": {},
   "source": [
    "We can vizualize the distributions for the numerical columns too, the 'Alcohol Content' and 'Calories in 12 oz' columns."
   ]
  },
  {
   "cell_type": "code",
   "execution_count": 9,
   "metadata": {},
   "outputs": [
    {
     "data": {
      "text/plain": [
       "<matplotlib.axes._subplots.AxesSubplot at 0x216e1626f08>"
      ]
     },
     "execution_count": 9,
     "metadata": {},
     "output_type": "execute_result"
    },
    {
     "data": {
      "image/png": "[encoded data removed]",
      "text/plain": [
       "<Figure size 432x288 with 2 Axes>"
      ]
     },
     "metadata": {
      "needs_background": "light"
     },
     "output_type": "display_data"
    }
   ],
   "source": [
    "# kde_plots for 'Brand' and 'Brewery' data\n",
    "fig, (axis1,axis2) = plt.subplots(1,2)\n",
    "\n",
    "# kde plot and histogram for the 'Alcohol Content' data\n",
    "sns.distplot(alcohol_df['Alcohol Content(%)'],ax=axis1)\n",
    "\n",
    "# kdeplot and histogram for the 'Calories in 12 oz' data\n",
    "sns.distplot(alcohol_df['Calories in 12 oz'],ax=axis2)"
   ]
  },
  {
   "cell_type": "code",
   "execution_count": 10,
   "metadata": {},
   "outputs": [
    {
     "data": {
      "text/plain": [
       "<matplotlib.axes._subplots.AxesSubplot at 0x216e15340c8>"
      ]
     },
     "execution_count": 10,
     "metadata": {},
     "output_type": "execute_result"
    },
    {
     "data": {
      "image/png": "[encoded data removed]",
      "text/plain": [
       "<Figure size 432x288 with 1 Axes>"
      ]
     },
     "metadata": {
      "needs_background": "light"
     },
     "output_type": "display_data"
    }
   ],
   "source": [
    "sns.kdeplot(alcohol_df['Alcohol Content(%)'])"
   ]
  },
  {
   "cell_type": "code",
   "execution_count": 11,
   "metadata": {},
   "outputs": [
    {
     "data": {
      "text/plain": [
       "<matplotlib.axes._subplots.AxesSubplot at 0x216e1755908>"
      ]
     },
     "execution_count": 11,
     "metadata": {},
     "output_type": "execute_result"
    },
    {
     "data": {
      "image/png": "[encoded data removed]",
      "text/plain": [
       "<Figure size 432x288 with 1 Axes>"
      ]
     },
     "metadata": {
      "needs_background": "light"
     },
     "output_type": "display_data"
    }
   ],
   "source": [
    "sns.kdeplot(alcohol_df['Calories in 12 oz'])"
   ]
  },
  {
   "cell_type": "markdown",
   "metadata": {},
   "source": [
    "We notice that both alcohol content and calories follow a normal distribution."
   ]
  },
  {
   "cell_type": "markdown",
   "metadata": {},
   "source": [
    "## Covariance, Correlation and Least Square Regression Analysis"
   ]
  },
  {
   "cell_type": "markdown",
   "metadata": {},
   "source": [
    "Our main part of analysis for this project starts here. We want to look at the linear association between alcohol content and calories. How do calories change with change in alcohol content? The first task in looking at the nature of the relationship is doing a scatter diagram for alcohol content and calories data points."
   ]
  },
  {
   "cell_type": "markdown",
   "metadata": {},
   "source": [
    "#### scatter plot"
   ]
  },
  {
   "cell_type": "code",
   "execution_count": 12,
   "metadata": {},
   "outputs": [
    {
     "data": {
      "text/plain": [
       "<matplotlib.axes._subplots.AxesSubplot at 0x216e17b8788>"
      ]
     },
     "execution_count": 12,
     "metadata": {},
     "output_type": "execute_result"
    },
    {
     "data": {
      "image/png": "[encoded data removed]",
      "text/plain": [
       "<Figure size 432x288 with 1 Axes>"
      ]
     },
     "metadata": {
      "needs_background": "light"
     },
     "output_type": "display_data"
    }
   ],
   "source": [
    "# scatter diagram for 'Alcohol content' and 'Calories' data\n",
    "sns.scatterplot(x = 'Alcohol Content(%)',y = 'Calories in 12 oz',data=alcohol_df)"
   ]
  },
  {
   "cell_type": "markdown",
   "metadata": {},
   "source": [
    "From the scatter diagram, it looks the data points are scattered such that they seem to be following a linear pattern."
   ]
  },
  {
   "cell_type": "markdown",
   "metadata": {},
   "source": [
    "It would also be good looking at some aspects of covariance and correlation analysis, as they are important aspects of linear relationships."
   ]
  },
  {
   "cell_type": "markdown",
   "metadata": {},
   "source": [
    "#### covariance\n",
    "Covariance investigates the direction of the linear relationship between two variables. \n",
    "\n",
    "#### N/B:\n",
    "##### From Statistics, a positive covariance value implies a positive linear relationship; a negative covariance value implies a negative linear relationship."
   ]
  },
  {
   "cell_type": "code",
   "execution_count": 13,
   "metadata": {},
   "outputs": [
    {
     "data": {
      "text/html": [
       "<div>\n",
       "<style scoped>\n",
       "    .dataframe tbody tr th:only-of-type {\n",
       "        vertical-align: middle;\n",
       "    }\n",
       "\n",
       "    .dataframe tbody tr th {\n",
       "        vertical-align: top;\n",
       "    }\n",
       "\n",
       "    .dataframe thead th {\n",
       "        text-align: right;\n",
       "    }\n",
       "</style>\n",
       "<table border=\"1\" class=\"dataframe\">\n",
       "  <thead>\n",
       "    <tr style=\"text-align: right;\">\n",
       "      <th></th>\n",
       "      <th>Alcohol Content(%)</th>\n",
       "      <th>Calories in 12 oz</th>\n",
       "    </tr>\n",
       "  </thead>\n",
       "  <tbody>\n",
       "    <tr>\n",
       "      <th>Alcohol Content(%)</th>\n",
       "      <td>1.556250</td>\n",
       "      <td>40.958333</td>\n",
       "    </tr>\n",
       "    <tr>\n",
       "      <th>Calories in 12 oz</th>\n",
       "      <td>40.958333</td>\n",
       "      <td>1291.944444</td>\n",
       "    </tr>\n",
       "  </tbody>\n",
       "</table>\n",
       "</div>"
      ],
      "text/plain": [
       "                    Alcohol Content(%)  Calories in 12 oz\n",
       "Alcohol Content(%)            1.556250          40.958333\n",
       "Calories in 12 oz            40.958333        1291.944444"
      ]
     },
     "execution_count": 13,
     "metadata": {},
     "output_type": "execute_result"
    }
   ],
   "source": [
    "# covariance\n",
    "alcohol_df[['Alcohol Content(%)','Calories in 12 oz']].cov()"
   ]
  },
  {
   "cell_type": "markdown",
   "metadata": {},
   "source": [
    "Great! The table above shows the covariances between the variables. The covariance between calories and alcohol content is 0.409583. Therefore, we can confidently say that there exist a positive linear relationship between alcohol content and calories. The next aspect of linear associations is correlation."
   ]
  },
  {
   "cell_type": "markdown",
   "metadata": {},
   "source": [
    "#### correlation\n",
    "Correlation investigates the direction and strength of the linear relationship between two variables. So, we are going to get the correlation coefficient for the linear relationship between our two variables.\n",
    "\n",
    "#### N/B:\n",
    "##### From Statistics, correlation coefficient ranges between -1 and +1. A correlation coefficient close to +1 implies a strong positive linear relationship; a correlation coefficient close to -1 implies a strong negative linear relationship; whereas, a correlation coefficient of 0 implies that there is NO linear relationship.\n",
    "Having that in mind, let's go ahead and look at the correlations."
   ]
  },
  {
   "cell_type": "code",
   "execution_count": 14,
   "metadata": {},
   "outputs": [
    {
     "data": {
      "text/html": [
       "<div>\n",
       "<style scoped>\n",
       "    .dataframe tbody tr th:only-of-type {\n",
       "        vertical-align: middle;\n",
       "    }\n",
       "\n",
       "    .dataframe tbody tr th {\n",
       "        vertical-align: top;\n",
       "    }\n",
       "\n",
       "    .dataframe thead th {\n",
       "        text-align: right;\n",
       "    }\n",
       "</style>\n",
       "<table border=\"1\" class=\"dataframe\">\n",
       "  <thead>\n",
       "    <tr style=\"text-align: right;\">\n",
       "      <th></th>\n",
       "      <th>Alcohol Content(%)</th>\n",
       "      <th>Calories in 12 oz</th>\n",
       "    </tr>\n",
       "  </thead>\n",
       "  <tbody>\n",
       "    <tr>\n",
       "      <th>Alcohol Content(%)</th>\n",
       "      <td>1.000000</td>\n",
       "      <td>0.913441</td>\n",
       "    </tr>\n",
       "    <tr>\n",
       "      <th>Calories in 12 oz</th>\n",
       "      <td>0.913441</td>\n",
       "      <td>1.000000</td>\n",
       "    </tr>\n",
       "  </tbody>\n",
       "</table>\n",
       "</div>"
      ],
      "text/plain": [
       "                    Alcohol Content(%)  Calories in 12 oz\n",
       "Alcohol Content(%)            1.000000           0.913441\n",
       "Calories in 12 oz             0.913441           1.000000"
      ]
     },
     "execution_count": 14,
     "metadata": {},
     "output_type": "execute_result"
    }
   ],
   "source": [
    "# correlation\n",
    "alcohol_df[['Alcohol Content(%)','Calories in 12 oz']].corr()"
   ]
  },
  {
   "cell_type": "markdown",
   "metadata": {},
   "source": [
    "Great! We now have our table for the correlations above. With a correlation coefficient of 0.913441, we can conclude that there is a super strong positive linear relationship between alcohol content and the amount of calories. That means, if alcohol content increases, the amount of calories in the alcohol will also increase significantly.\n",
    "\n",
    "For a graphical view of the correlations, we can do a heatmap for the correlations."
   ]
  },
  {
   "cell_type": "code",
   "execution_count": 15,
   "metadata": {},
   "outputs": [
    {
     "data": {
      "text/plain": [
       "Text(0.5, 1.0, 'Correlations Heatmap')"
      ]
     },
     "execution_count": 15,
     "metadata": {},
     "output_type": "execute_result"
    },
    {
     "data": {
      "image/png": "[encoded data removed]",
      "text/plain": [
       "<Figure size 432x288 with 2 Axes>"
      ]
     },
     "metadata": {
      "needs_background": "light"
     },
     "output_type": "display_data"
    }
   ],
   "source": [
    "# correlations heatmap\n",
    "sns.heatmap(alcohol_df[['Alcohol Content(%)','Calories in 12 oz']].corr())\n",
    "\n",
    "# add a title for the heatmap\n",
    "plt.title('Correlations Heatmap')"
   ]
  },
  {
   "cell_type": "markdown",
   "metadata": {},
   "source": [
    "Nice."
   ]
  },
  {
   "cell_type": "markdown",
   "metadata": {},
   "source": [
    "Having looked at the covariance and correlations, we can now fit a least square regression line for our variables."
   ]
  },
  {
   "cell_type": "markdown",
   "metadata": {},
   "source": [
    "#### Least Square Regression\n",
    "With seaborn, it's very easy to fit a regression fit line between two variables by just typing one line of code as seen below. A few things to remember about least square regression line is that the regression line must pass through the centroid.\n",
    "\n",
    "#### N/B:\n",
    "##### If you take the mean for X and plot it against the mean for Y, the point where they meet is the centroid.\n",
    "This pushes us into calculating the mean for our X(Alcohol content) and Y(Calories in 12 oz) variables (columns)."
   ]
  },
  {
   "cell_type": "code",
   "execution_count": 16,
   "metadata": {},
   "outputs": [
    {
     "name": "stdout",
     "output_type": "stream",
     "text": [
      "The mean for alcohol content is 5.52 while the mean for calories is 170.22\n"
     ]
    }
   ],
   "source": [
    "# alcohol content\n",
    "alc_mean = alcohol_df['Alcohol Content(%)'].mean()\n",
    "\n",
    "# calories mean\n",
    "cal_mean = alcohol_df['Calories in 12 oz'].mean()\n",
    "\n",
    "# print out the means in a python statement\n",
    "print('The mean for alcohol content is %.2f while the mean for calories is %.2f'%(alc_mean,cal_mean))"
   ]
  },
  {
   "cell_type": "markdown",
   "metadata": {},
   "source": [
    "Therefore, the seaborn plotted regression fit line must pass through these two points."
   ]
  },
  {
   "cell_type": "code",
   "execution_count": 17,
   "metadata": {
    "scrolled": false
   },
   "outputs": [
    {
     "data": {
      "text/plain": [
       "<seaborn.axisgrid.FacetGrid at 0x216e1d3f848>"
      ]
     },
     "execution_count": 17,
     "metadata": {},
     "output_type": "execute_result"
    },
    {
     "data": {
      "image/png": "[encoded data removed]",
      "text/plain": [
       "<Figure size 360x360 with 1 Axes>"
      ]
     },
     "metadata": {
      "needs_background": "light"
     },
     "output_type": "display_data"
    }
   ],
   "source": [
    "# linear regression model for 'Alcohol content' and 'Calories' data\n",
    "sns.lmplot(x = 'Alcohol Content(%)',y = 'Calories in 12 oz',data=alcohol_df)"
   ]
  },
  {
   "cell_type": "markdown",
   "metadata": {},
   "source": [
    "However, we can manually compute least square regression function for our variables. This regression function helps us predict the value of the dependent variable given any value of the independent variable."
   ]
  },
  {
   "cell_type": "code",
   "execution_count": 18,
   "metadata": {},
   "outputs": [
    {
     "data": {
      "text/html": [
       "<div>\n",
       "<style scoped>\n",
       "    .dataframe tbody tr th:only-of-type {\n",
       "        vertical-align: middle;\n",
       "    }\n",
       "\n",
       "    .dataframe tbody tr th {\n",
       "        vertical-align: top;\n",
       "    }\n",
       "\n",
       "    .dataframe thead th {\n",
       "        text-align: right;\n",
       "    }\n",
       "</style>\n",
       "<table border=\"1\" class=\"dataframe\">\n",
       "  <thead>\n",
       "    <tr style=\"text-align: right;\">\n",
       "      <th></th>\n",
       "      <th>Brand</th>\n",
       "      <th>Brewery</th>\n",
       "      <th>Alcohol Content(%)</th>\n",
       "      <th>Calories in 12 oz</th>\n",
       "    </tr>\n",
       "  </thead>\n",
       "  <tbody>\n",
       "    <tr>\n",
       "      <th>0</th>\n",
       "      <td>Big Sky Scape Goat Pale Ale</td>\n",
       "      <td>Big Sky Brewing</td>\n",
       "      <td>4.70</td>\n",
       "      <td>163</td>\n",
       "    </tr>\n",
       "    <tr>\n",
       "      <th>1</th>\n",
       "      <td>Sierra Nevada Harvest Ale</td>\n",
       "      <td>Sierra Nevada</td>\n",
       "      <td>6.70</td>\n",
       "      <td>215</td>\n",
       "    </tr>\n",
       "    <tr>\n",
       "      <th>2</th>\n",
       "      <td>Steel Reserve</td>\n",
       "      <td>MillerCoors</td>\n",
       "      <td>8.10</td>\n",
       "      <td>222</td>\n",
       "    </tr>\n",
       "    <tr>\n",
       "      <th>3</th>\n",
       "      <td>Coors Light</td>\n",
       "      <td>MillerCoors</td>\n",
       "      <td>4.15</td>\n",
       "      <td>104</td>\n",
       "    </tr>\n",
       "    <tr>\n",
       "      <th>4</th>\n",
       "      <td>Genesee Cream Ale</td>\n",
       "      <td>High Falls Brewing</td>\n",
       "      <td>5.10</td>\n",
       "      <td>162</td>\n",
       "    </tr>\n",
       "  </tbody>\n",
       "</table>\n",
       "</div>"
      ],
      "text/plain": [
       "                          Brand              Brewery  Alcohol Content(%)  \\\n",
       "0  Big Sky Scape Goat Pale Ale      Big Sky Brewing                 4.70   \n",
       "1    Sierra Nevada Harvest Ale        Sierra Nevada                 6.70   \n",
       "2                Steel Reserve           MillerCoors                8.10   \n",
       "3                  Coors Light           MillerCoors                4.15   \n",
       "4            Genesee Cream Ale   High Falls Brewing                 5.10   \n",
       "\n",
       "   Calories in 12 oz  \n",
       "0                163  \n",
       "1                215  \n",
       "2                222  \n",
       "3                104  \n",
       "4                162  "
      ]
     },
     "execution_count": 18,
     "metadata": {},
     "output_type": "execute_result"
    }
   ],
   "source": [
    "# preview the data again\n",
    "alcohol_df.head()"
   ]
  },
  {
   "cell_type": "markdown",
   "metadata": {},
   "source": [
    "We can use Least Square Fit method to create a function that defines this linear regression model.\n",
    "\n",
    "The regression equation is:\n",
    "\n",
    "$y = a + bx$\n",
    "\n",
    "$b= \\frac{SS_{xy}}{SS_x}$\n",
    "\n",
    "$a = \\bar{y} - b\\bar{x}$\n",
    "    \n",
    "where:\n",
    "\n",
    "$b$ = slope \n",
    "\n",
    "$a$ = intercept\n",
    "\n",
    "$SS$ means sum of squares.\n",
    "\n",
    "$SS_{xy} = \\sum(x_i - \\bar{x})(y_i - \\bar{y})$\n",
    "\n",
    "$SS_x = \\sum(x_i - \\bar{x})^2$    "
   ]
  },
  {
   "cell_type": "markdown",
   "metadata": {},
   "source": [
    "Let's apply the least square regression equation with Python. Our X for this case is the 'Alcohol content' and Y is 'Calories in 12 oz'"
   ]
  },
  {
   "cell_type": "code",
   "execution_count": 19,
   "metadata": {},
   "outputs": [],
   "source": [
    "# find the slope and intercept of the regression line\n",
    "SSxy = sum((alcohol_df['Alcohol Content(%)']-alcohol_df['Alcohol Content(%)'].mean())*(alcohol_df['Calories in 12 oz']-(alcohol_df['Calories in 12 oz'].mean())))\n",
    "\n",
    "SSx = sum((alcohol_df['Alcohol Content(%)']-alcohol_df['Alcohol Content(%)'].mean())**2)\n",
    "\n",
    "slope = SSxy/SSx\n",
    "intercept = alcohol_df['Calories in 12 oz'].mean() - slope*alcohol_df['Alcohol Content(%)'].mean()"
   ]
  },
  {
   "cell_type": "code",
   "execution_count": 20,
   "metadata": {},
   "outputs": [
    {
     "name": "stdout",
     "output_type": "stream",
     "text": [
      "Y = 25.031236055332414 + 26.3186077643909X\n"
     ]
    }
   ],
   "source": [
    "# print the slope and the intercept as an equation:\n",
    "print(f'Y = {intercept} + {slope}X')"
   ]
  },
  {
   "cell_type": "markdown",
   "metadata": {},
   "source": [
    "Using the above equation,we can create a new column that gives the calorie estimate for each alcohol content based on the regression function that we just made. "
   ]
  },
  {
   "cell_type": "code",
   "execution_count": 21,
   "metadata": {},
   "outputs": [],
   "source": [
    "# create calorie_estimator column for each alcohol_content\n",
    "alcohol_df['calorie_estimate'] = intercept + slope*alcohol_df['Alcohol Content(%)']"
   ]
  },
  {
   "cell_type": "code",
   "execution_count": 22,
   "metadata": {
    "scrolled": true
   },
   "outputs": [
    {
     "data": {
      "text/html": [
       "<div>\n",
       "<style scoped>\n",
       "    .dataframe tbody tr th:only-of-type {\n",
       "        vertical-align: middle;\n",
       "    }\n",
       "\n",
       "    .dataframe tbody tr th {\n",
       "        vertical-align: top;\n",
       "    }\n",
       "\n",
       "    .dataframe thead th {\n",
       "        text-align: right;\n",
       "    }\n",
       "</style>\n",
       "<table border=\"1\" class=\"dataframe\">\n",
       "  <thead>\n",
       "    <tr style=\"text-align: right;\">\n",
       "      <th></th>\n",
       "      <th>Brand</th>\n",
       "      <th>Brewery</th>\n",
       "      <th>Alcohol Content(%)</th>\n",
       "      <th>Calories in 12 oz</th>\n",
       "      <th>calorie_estimate</th>\n",
       "    </tr>\n",
       "  </thead>\n",
       "  <tbody>\n",
       "    <tr>\n",
       "      <th>0</th>\n",
       "      <td>Big Sky Scape Goat Pale Ale</td>\n",
       "      <td>Big Sky Brewing</td>\n",
       "      <td>4.70</td>\n",
       "      <td>163</td>\n",
       "      <td>148.728693</td>\n",
       "    </tr>\n",
       "    <tr>\n",
       "      <th>1</th>\n",
       "      <td>Sierra Nevada Harvest Ale</td>\n",
       "      <td>Sierra Nevada</td>\n",
       "      <td>6.70</td>\n",
       "      <td>215</td>\n",
       "      <td>201.365908</td>\n",
       "    </tr>\n",
       "    <tr>\n",
       "      <th>2</th>\n",
       "      <td>Steel Reserve</td>\n",
       "      <td>MillerCoors</td>\n",
       "      <td>8.10</td>\n",
       "      <td>222</td>\n",
       "      <td>238.211959</td>\n",
       "    </tr>\n",
       "    <tr>\n",
       "      <th>3</th>\n",
       "      <td>Coors Light</td>\n",
       "      <td>MillerCoors</td>\n",
       "      <td>4.15</td>\n",
       "      <td>104</td>\n",
       "      <td>134.253458</td>\n",
       "    </tr>\n",
       "    <tr>\n",
       "      <th>4</th>\n",
       "      <td>Genesee Cream Ale</td>\n",
       "      <td>High Falls Brewing</td>\n",
       "      <td>5.10</td>\n",
       "      <td>162</td>\n",
       "      <td>159.256136</td>\n",
       "    </tr>\n",
       "    <tr>\n",
       "      <th>5</th>\n",
       "      <td>Sierra Nevada Summerfest Beer</td>\n",
       "      <td>Sierra Nevada</td>\n",
       "      <td>5.00</td>\n",
       "      <td>158</td>\n",
       "      <td>156.624275</td>\n",
       "    </tr>\n",
       "    <tr>\n",
       "      <th>6</th>\n",
       "      <td>Michelob Beer</td>\n",
       "      <td>Anheuser Busch</td>\n",
       "      <td>5.00</td>\n",
       "      <td>155</td>\n",
       "      <td>156.624275</td>\n",
       "    </tr>\n",
       "    <tr>\n",
       "      <th>7</th>\n",
       "      <td>Flying Dog Doggie Style</td>\n",
       "      <td>Flying Dog Brewery</td>\n",
       "      <td>4.70</td>\n",
       "      <td>158</td>\n",
       "      <td>148.728693</td>\n",
       "    </tr>\n",
       "    <tr>\n",
       "      <th>8</th>\n",
       "      <td>Big Sky I.P.A.</td>\n",
       "      <td>Big Sky Brewing</td>\n",
       "      <td>6.20</td>\n",
       "      <td>195</td>\n",
       "      <td>188.206604</td>\n",
       "    </tr>\n",
       "  </tbody>\n",
       "</table>\n",
       "</div>"
      ],
      "text/plain": [
       "                            Brand              Brewery  Alcohol Content(%)  \\\n",
       "0    Big Sky Scape Goat Pale Ale      Big Sky Brewing                 4.70   \n",
       "1      Sierra Nevada Harvest Ale        Sierra Nevada                 6.70   \n",
       "2                  Steel Reserve           MillerCoors                8.10   \n",
       "3                    Coors Light           MillerCoors                4.15   \n",
       "4              Genesee Cream Ale   High Falls Brewing                 5.10   \n",
       "5  Sierra Nevada Summerfest Beer        Sierra Nevada                 5.00   \n",
       "6                  Michelob Beer       Anheuser Busch                 5.00   \n",
       "7        Flying Dog Doggie Style   Flying Dog Brewery                 4.70   \n",
       "8                 Big Sky I.P.A.      Big Sky Brewing                 6.20   \n",
       "\n",
       "   Calories in 12 oz  calorie_estimate  \n",
       "0                163        148.728693  \n",
       "1                215        201.365908  \n",
       "2                222        238.211959  \n",
       "3                104        134.253458  \n",
       "4                162        159.256136  \n",
       "5                158        156.624275  \n",
       "6                155        156.624275  \n",
       "7                158        148.728693  \n",
       "8                195        188.206604  "
      ]
     },
     "execution_count": 22,
     "metadata": {},
     "output_type": "execute_result"
    }
   ],
   "source": [
    "# inspect the dataframe\n",
    "alcohol_df"
   ]
  },
  {
   "cell_type": "markdown",
   "metadata": {},
   "source": [
    "Great, we can now predict the amount of calories given any alcohol content. If we plot alcohol content against calories estimates from our regression model and then do a regression line for the data points, it would be a perfect regression line."
   ]
  },
  {
   "cell_type": "code",
   "execution_count": 23,
   "metadata": {},
   "outputs": [
    {
     "data": {
      "text/plain": [
       "<seaborn.axisgrid.FacetGrid at 0x216e1de0a08>"
      ]
     },
     "execution_count": 23,
     "metadata": {},
     "output_type": "execute_result"
    },
    {
     "data": {
      "image/png": "[encoded data removed]",
      "text/plain": [
       "<Figure size 360x360 with 1 Axes>"
      ]
     },
     "metadata": {
      "needs_background": "light"
     },
     "output_type": "display_data"
    }
   ],
   "source": [
    "# perfect regression line of alcohol content vs calories estimate from the regression model\n",
    "sns.lmplot(x = 'Alcohol Content(%)',y = 'calorie_estimate',data=alcohol_df)"
   ]
  },
  {
   "cell_type": "markdown",
   "metadata": {},
   "source": [
    "### Interpretting the regression line"
   ]
  },
  {
   "cell_type": "markdown",
   "metadata": {},
   "source": [
    "Okay. We have our regression equation, $Y = 25.031236055332442 + 26.3186077643909X$ . What does it imply? What do the slope and the Y-intercept mean? Before diving into that, let's print out our equation to the nearest two decimal places."
   ]
  },
  {
   "cell_type": "code",
   "execution_count": 24,
   "metadata": {},
   "outputs": [
    {
     "name": "stdout",
     "output_type": "stream",
     "text": [
      "Our regression equation is Y = 25.03 + 26.32X\n"
     ]
    }
   ],
   "source": [
    "# regression equation to two decimal places\n",
    "print('Our regression equation is Y = %.2f + %.2fX'%(intercept,slope))"
   ]
  },
  {
   "cell_type": "markdown",
   "metadata": {},
   "source": [
    "The slope is 26.32 while the intercept is 25.03. That means, for every 1 unit change in alcohol content(X), calories(Y) change by 26.32 units. The intercept (25.03) is the value of calories(Y) when alcohol content(X) is zero. However, this may not make sense for this case, because we must have alcohol content so that we measure the amount of calories in it. Hence, alcohol content cannot be zero."
   ]
  },
  {
   "cell_type": "markdown",
   "metadata": {},
   "source": [
    "That's it!!!"
   ]
  },
  {
   "cell_type": "markdown",
   "metadata": {},
   "source": [
    "#### Thanks for going through this project!!!"
   ]
  }
 ],
 "metadata": {
  "kernelspec": {
   "display_name": "Python 3",
   "language": "python",
   "name": "python3"
  },
  "language_info": {
   "codemirror_mode": {
    "name": "ipython",
    "version": 3
   },
   "file_extension": ".py",
   "mimetype": "text/x-python",
   "name": "python",
   "nbconvert_exporter": "python",
   "pygments_lexer": "ipython3",
   "version": "3.7.4"
  }
 },
 "nbformat": 4,
 "nbformat_minor": 2
}
